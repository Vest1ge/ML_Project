{
  "nbformat": 4,
  "nbformat_minor": 0,
  "metadata": {
    "colab": {
      "name": "2017250024_ML_Project4.ipynb",
      "provenance": [],
      "collapsed_sections": [
        "yDYBKoxuH73q"
      ],
      "toc_visible": true,
      "authorship_tag": "ABX9TyNRheexxzHRg23932Jon7yX"
    },
    "kernelspec": {
      "name": "python3",
      "display_name": "Python 3"
    },
    "language_info": {
      "name": "python"
    }
  },
  "cells": [
    {
      "cell_type": "markdown",
      "metadata": {
        "id": "AnPLDnnhrQi3"
      },
      "source": [
        ">학번 : 2017250024\n",
        "\n",
        ">이름 : 오재영\n"
      ]
    },
    {
      "cell_type": "markdown",
      "metadata": {
        "id": "90vzw0mgsGFR"
      },
      "source": [
        "## 기본 설정"
      ]
    },
    {
      "cell_type": "code",
      "metadata": {
        "id": "M03gD0Oyqncl"
      },
      "source": [
        "# 파이썬 ≥3.5 필수\n",
        "import sys\n",
        "assert sys.version_info >= (3, 5)\n",
        "\n",
        "# 공통 모듈 임포트\n",
        "import numpy as np\n",
        "import os\n",
        "\n",
        "# 노트북 실행 결과를 동일하게 유지하기 위해\n",
        "np.random.seed(42)\n",
        "\n",
        "# 깔끔한 그래프 출력을 위해\n",
        "%matplotlib inline\n",
        "import matplotlib as mpl\n",
        "import matplotlib.pyplot as plt\n",
        "mpl.rc('axes', labelsize=14)\n",
        "mpl.rc('xtick', labelsize=12)\n",
        "mpl.rc('ytick', labelsize=12)"
      ],
      "execution_count": 235,
      "outputs": []
    },
    {
      "cell_type": "markdown",
      "metadata": {
        "id": "TRH09wxPrYEp"
      },
      "source": [
        "# 과제 1\n",
        "조기 종료를 사용한 배치 경사 하강법으로 로지스틱 회귀를 구현하라. 단, 사이킷런을 전혀 사용하지 않아야 한다."
      ]
    },
    {
      "cell_type": "markdown",
      "metadata": {
        "id": "J3_zrLywuVWe"
      },
      "source": [
        "## 데이터 준비"
      ]
    },
    {
      "cell_type": "markdown",
      "metadata": {
        "id": "8M-hktpWtHPu"
      },
      "source": [
        "붓꽃 데이터셋을 불러오기 위해서 사이킷런에서 제공하는 붓꽃 데이터셋을 불러왔다.\n",
        "\n",
        "* (오직 데이터셋을 불러오기 위해서 사용한다. 로지스틱 회귀를 구현하는 과정에서는 사용하지 않을 것이다.) "
      ]
    },
    {
      "cell_type": "code",
      "metadata": {
        "id": "ktACQlKUtHzu"
      },
      "source": [
        "from sklearn import datasets\n",
        "iris = datasets.load_iris()"
      ],
      "execution_count": 236,
      "outputs": []
    },
    {
      "cell_type": "markdown",
      "metadata": {
        "id": "m80b6DFuuKLp"
      },
      "source": [
        "꽃잎 길이(petal length)와 꽃잎 너비(petal width) 특성을 이용하여 버지니카 품종 여부를 판정하는 데에 사용되는 데이터셋을 지정한다."
      ]
    },
    {
      "cell_type": "code",
      "metadata": {
        "id": "7FlqDkwwuJv2"
      },
      "source": [
        "X = iris[\"data\"][:, (2, 3)]  # 꽃잎 길이(petal length), 꽃잎 넓이(petal width) 특성 사용\n",
        "y = (iris[\"target\"] == 2).astype(np.int)  # 0이면 음성 (버지니카(Virginica) 품종이 아닐 때 ), 1이면 양성 (버지니카(Virginica) 품종일 때)"
      ],
      "execution_count": 237,
      "outputs": []
    },
    {
      "cell_type": "markdown",
      "metadata": {
        "id": "7YHy00FSPFZ6"
      },
      "source": [
        "모든 샘플에 편향을 추가한다. 이유는 아래 수식을 행렬 연산으로 보다 간단하게\n",
        "처리하기 위해 0번 특성값 $x_0$이 항상 1이라고 가정하기 때문이다. \n",
        "\n",
        "$$\n",
        "\\theta_0\\cdot 1 + \\theta_1\\cdot x_1 + \\cdots + \\theta_n\\cdot x_n =\n",
        "\\theta_0\\cdot x_0 + \\theta_1\\cdot x_1 + \\cdots + \\theta_n\\cdot x_n\n",
        "$$"
      ]
    },
    {
      "cell_type": "code",
      "metadata": {
        "id": "6EACXgE5YRa-"
      },
      "source": [
        "X_with_bias = np.c_[np.ones([len(X), 1]), X]"
      ],
      "execution_count": 238,
      "outputs": []
    },
    {
      "cell_type": "markdown",
      "metadata": {
        "id": "L9v1YFLcdQh1"
      },
      "source": [
        "일정한 결과를 유지하기 위해 랜덤 시드를 지정한다."
      ]
    },
    {
      "cell_type": "code",
      "metadata": {
        "id": "JmfugpbMvcbe"
      },
      "source": [
        "np.random.seed(2042) #숫자는 상관 없음."
      ],
      "execution_count": 239,
      "outputs": []
    },
    {
      "cell_type": "markdown",
      "metadata": {
        "id": "cXhHAjtm6ke3"
      },
      "source": [
        "## 데이터셋 분할"
      ]
    },
    {
      "cell_type": "markdown",
      "metadata": {
        "id": "u_G7jZjv6n72"
      },
      "source": [
        "데이터셋을 훈련, 검증, 테스트 용도로 6대 2대 2의 비율로 무작위로 분할한다."
      ]
    },
    {
      "cell_type": "code",
      "metadata": {
        "id": "_8bHzZB26wEu"
      },
      "source": [
        "test_ratio = 0.2                                         # 테스트 세트 비율 = 20%\n",
        "validation_ratio = 0.2                                   # 검증 세트 비율 = 20%\n",
        "total_size = len(X_with_bias)                            # 전체 데이터셋 크기\n",
        "\n",
        "test_size = int(total_size * test_ratio)                 # 테스트 세트 크기: 전체의 20%\n",
        "validation_size = int(total_size * validation_ratio)     # 검증 세트 크기: 전체의 20%\n",
        "train_size = total_size - test_size - validation_size    # 훈련 세트 크기: 전체의 60%"
      ],
      "execution_count": 240,
      "outputs": []
    },
    {
      "cell_type": "markdown",
      "metadata": {
        "id": "hs8fD5iT7CbP"
      },
      "source": [
        "`np.random.permutation()` 함수를 이용하여 인덱스를 무작위로 섞는다."
      ]
    },
    {
      "cell_type": "code",
      "metadata": {
        "id": "6R_jPXxw7CEO"
      },
      "source": [
        "rnd_indices = np.random.permutation(total_size)"
      ],
      "execution_count": 241,
      "outputs": []
    },
    {
      "cell_type": "markdown",
      "metadata": {
        "id": "ds7mXE3Q7JTH"
      },
      "source": [
        "인덱스가 무작위로 섞였기 때문에 무작위로 분할하는 효과를 얻는다. \n",
        "\n",
        "* 섞인 인덱스를 이용하여 지정된 6:2:2의 비율로 훈련, 검증, 테스트 세트로 분할하는 방법 사용"
      ]
    },
    {
      "cell_type": "code",
      "metadata": {
        "id": "z_vCwi4o7I2u"
      },
      "source": [
        "X_train = X_with_bias[rnd_indices[:train_size]]\n",
        "y_train = y[rnd_indices[:train_size]]\n",
        "\n",
        "X_valid = X_with_bias[rnd_indices[train_size:-test_size]]\n",
        "y_valid = y[rnd_indices[train_size:-test_size]]\n",
        "\n",
        "X_test = X_with_bias[rnd_indices[-test_size:]]\n",
        "y_test = y[rnd_indices[-test_size:]]"
      ],
      "execution_count": 242,
      "outputs": []
    },
    {
      "cell_type": "markdown",
      "metadata": {
        "id": "KVjArqXc-ri3"
      },
      "source": [
        "## 로지스틱 회귀 구현\n",
        "\n",
        "* 로지스틱 회귀 : 파라미터와 특성값들의 선형합에 시그모이드 함수를 적용하여 양성 확률을 추정하는 이진 분류 모델"
      ]
    },
    {
      "cell_type": "markdown",
      "metadata": {
        "id": "JRWF-aeqyHj5"
      },
      "source": [
        "### 시그모이드 함수 정의"
      ]
    },
    {
      "cell_type": "markdown",
      "metadata": {
        "id": "qKnUnytPyM5l"
      },
      "source": [
        "* 시그모이드 함수 : 어떤 숫자가 들어와도 0과 1 사이의 값으로 변환해주는 함수.\n",
        "\n",
        "* (로지스틱 회귀를 구현하는데 있어서 필수적이다.)\n",
        "$$\n",
        "\\sigma(t) = \\frac{1}{1 + e^{-t}}\n",
        "$$\n",
        "> (e(e=2.718281...)는 자연 상수)"
      ]
    },
    {
      "cell_type": "code",
      "metadata": {
        "id": "TrMShNU5wVqW"
      },
      "source": [
        "def sigmoid(x):\n",
        "    return 1.0 / (1.0 + np.exp(-x))"
      ],
      "execution_count": 243,
      "outputs": []
    },
    {
      "cell_type": "code",
      "metadata": {
        "colab": {
          "base_uri": "https://localhost:8080/",
          "height": 286
        },
        "id": "PgCofUNUBVrP",
        "outputId": "d7d24776-3819-4544-cd31-9961530762b0"
      },
      "source": [
        "# 간략한 시그모이드 함수를 보여주는 그래프\n",
        "ara = np.arange(-10, 10, 0.1)\n",
        "sig = sigmoid(ara)\n",
        "plt.plot(ara, sig)\n",
        "plt.plot([0,0],[1.0,0.0], ':') # 가운데 점선을 추가해주는 코드\n",
        "plt.show"
      ],
      "execution_count": 244,
      "outputs": [
        {
          "output_type": "execute_result",
          "data": {
            "text/plain": [
              "<function matplotlib.pyplot.show>"
            ]
          },
          "metadata": {
            "tags": []
          },
          "execution_count": 244
        },
        {
          "output_type": "display_data",
          "data": {
            "image/png": "[encoded data removed]",
            "text/plain": [
              "<Figure size 432x288 with 1 Axes>"
            ]
          },
          "metadata": {
            "tags": [],
            "needs_background": "light"
          }
        }
      ]
    },
    {
      "cell_type": "markdown",
      "metadata": {
        "id": "gMw0fQxnQSJ8"
      },
      "source": [
        "파라미터 $\\Theta$를 무작위로 초기 설정한다."
      ]
    },
    {
      "cell_type": "code",
      "metadata": {
        "id": "xDG3b6AcP6o7"
      },
      "source": [
        "n_inputs = X_train.shape[1] # 특성 수(n) + 1, 붓꽃의 경우: 특성 2개 + 1"
      ],
      "execution_count": 245,
      "outputs": []
    },
    {
      "cell_type": "code",
      "metadata": {
        "id": "Zm8KmjezZkVI"
      },
      "source": [
        "Theta = np.random.randn(n_inputs) # 세타값을 무작위로 초기화한다."
      ],
      "execution_count": 246,
      "outputs": []
    },
    {
      "cell_type": "markdown",
      "metadata": {
        "id": "_NNi559rLRiW"
      },
      "source": [
        "## 경사하강법 활용 훈련"
      ]
    },
    {
      "cell_type": "markdown",
      "metadata": {
        "id": "9imkWFrwUIM9"
      },
      "source": [
        "### 경사 하강법 훈련 함수\n",
        "\n",
        "* `learning_rate` : 학습률\n",
        "* `epsilon` : $\\log$ 값이 항상 계산되도록 더해지는 작은 실수\n",
        "* `n_iterations` : 에포크 수\n",
        "* `m` : 훈련 세트 크기, 즉 훈련 샘플 수\n",
        "* `logits` : 모든 샘플에 대한 클래스별 점수, 즉 $\\mathbf{X}_{\\textit{train}}\\, \\Theta$\n",
        "* `Y_proba` : 모든 샘플에 대해 계산된 클래스 별 소속 확률, 즉 $\\hat P$"
      ]
    },
    {
      "cell_type": "code",
      "metadata": {
        "id": "bJCDceErUHwf",
        "colab": {
          "base_uri": "https://localhost:8080/"
        },
        "outputId": "9f498221-0c94-4df5-fc44-ed84d13c9686"
      },
      "source": [
        "learning_rate = 0.1   # 학습률\n",
        "epsilon = 1e-7         # log 값이 항상 계산되도록 더해지는 작은 실수\n",
        "n_iterations = 5001    # 에포크 수\n",
        "m = len(X_train)       # 훈련 세트 크기\n",
        "\n",
        "\n",
        "for iteration in range(n_iterations):     # 5001번 반복 훈련\n",
        "    logits = X_train.dot(Theta)\n",
        "    Y_proba = sigmoid(logits)\n",
        "   \n",
        "    if iteration % 500 == 0:              # 500 에포크마다 손실(비용) 계산해서 출력\n",
        "      loss = -np.mean(np.sum((y_train*np.log(Y_proba + epsilon) + (1-y_train)*np.log(1 - Y_proba + epsilon))))  # 손실 함수\n",
        "      print(iteration, loss)\n",
        "    \n",
        "    error = Y_proba - y_train             # 그레이디언트 계산.\n",
        "    gradients = 1/m * X_train.T.dot(error)\n",
        "    \n",
        "    Theta = Theta - learning_rate * gradients       # 파라미터 업데이트"
      ],
      "execution_count": 247,
      "outputs": [
        {
          "output_type": "stream",
          "text": [
            "0 64.36764197429221\n",
            "500 49.0675996532536\n",
            "1000 44.396192284525625\n",
            "1500 42.479741738754846\n",
            "2000 41.54714898005549\n",
            "2500 41.04432545213079\n",
            "3000 40.754634920308774\n",
            "3500 40.57996306011109\n",
            "4000 40.47114598460859\n",
            "4500 40.4016935601258\n",
            "5000 40.35654247199624\n"
          ],
          "name": "stdout"
        }
      ]
    },
    {
      "cell_type": "markdown",
      "metadata": {
        "id": "nzVras7qSesy"
      },
      "source": [
        "학습된 파라미터는 다음과 같다."
      ]
    },
    {
      "cell_type": "code",
      "metadata": {
        "colab": {
          "base_uri": "https://localhost:8080/"
        },
        "id": "kkPLAwSDSfHU",
        "outputId": "c31bd8b9-325d-4ef3-aed3-524634bacf84"
      },
      "source": [
        "Theta"
      ],
      "execution_count": 248,
      "outputs": [
        {
          "output_type": "execute_result",
          "data": {
            "text/plain": [
              "array([-2.44437711,  7.36763324])"
            ]
          },
          "metadata": {
            "tags": []
          },
          "execution_count": 248
        }
      ]
    },
    {
      "cell_type": "markdown",
      "metadata": {
        "id": "y1taYQWFS4fk"
      },
      "source": [
        "### 정확도 측정"
      ]
    },
    {
      "cell_type": "markdown",
      "metadata": {
        "id": "ePMfZgrdTqJC"
      },
      "source": [
        "검증세트를 이용하여 모델 성능을 측정한다.\n",
        "\n",
        "Y_proba값이 0.5 이상이면 1로 판단 양성(즉, 버지니아이다.) 0.5 이하면 0으로 판단 음성(즉, 버지니아가 아니다.)"
      ]
    },
    {
      "cell_type": "code",
      "metadata": {
        "colab": {
          "base_uri": "https://localhost:8080/"
        },
        "id": "MAtlj5dXSyxW",
        "outputId": "2778d02d-784a-48fc-c56e-48f8548e89cb"
      },
      "source": [
        "logits = X_valid.dot(Theta)              \n",
        "Y_proba = sigmoid(logits)\n",
        "y_predict = np.array([])\n",
        "for i in range(len(Y_proba)):\n",
        "  if Y_proba[i] >= 0.5:\n",
        "    y_predict = np.append(y_predict, 1)\n",
        "  else:\n",
        "    y_predict = np.append(y_predict, 0)\n",
        "\n",
        "accuracy_score = np.mean(y_predict == y_valid)  # 정확도 계산\n",
        "accuracy_score"
      ],
      "execution_count": 249,
      "outputs": [
        {
          "output_type": "execute_result",
          "data": {
            "text/plain": [
              "0.8666666666666667"
            ]
          },
          "metadata": {
            "tags": []
          },
          "execution_count": 249
        }
      ]
    },
    {
      "cell_type": "markdown",
      "metadata": {
        "id": "iGoTllzQw-HC"
      },
      "source": [
        "정확도가 대략 86%가 나왔다."
      ]
    },
    {
      "cell_type": "markdown",
      "metadata": {
        "id": "XsUdFRc4Vogy"
      },
      "source": [
        "* 예측값"
      ]
    },
    {
      "cell_type": "code",
      "metadata": {
        "colab": {
          "base_uri": "https://localhost:8080/"
        },
        "id": "OgQl3PyPViqO",
        "outputId": "88da238b-84b6-461c-acfc-1aad147e697d"
      },
      "source": [
        "y_predict"
      ],
      "execution_count": 250,
      "outputs": [
        {
          "output_type": "execute_result",
          "data": {
            "text/plain": [
              "array([0., 1., 0., 0., 0., 0., 1., 0., 0., 0., 0., 0., 1., 1., 0., 1., 1.,\n",
              "       0., 1., 0., 0., 0., 1., 1., 0., 0., 0., 0., 1., 0.])"
            ]
          },
          "metadata": {
            "tags": []
          },
          "execution_count": 250
        }
      ]
    },
    {
      "cell_type": "markdown",
      "metadata": {
        "id": "ASvKOYnuVqJs"
      },
      "source": [
        "* 실제값"
      ]
    },
    {
      "cell_type": "code",
      "metadata": {
        "colab": {
          "base_uri": "https://localhost:8080/"
        },
        "id": "ksbnrbQbVk1F",
        "outputId": "025013bc-108d-456d-8d42-45a9096b0788"
      },
      "source": [
        "y_valid"
      ],
      "execution_count": 251,
      "outputs": [
        {
          "output_type": "execute_result",
          "data": {
            "text/plain": [
              "array([0, 1, 0, 0, 0, 1, 1, 0, 0, 0, 0, 0, 1, 1, 0, 0, 1, 0, 1, 0, 0, 0,\n",
              "       1, 1, 0, 0, 0, 0, 0, 1])"
            ]
          },
          "metadata": {
            "tags": []
          },
          "execution_count": 251
        }
      ]
    },
    {
      "cell_type": "markdown",
      "metadata": {
        "id": "OTImota5VUPm"
      },
      "source": [
        "### 규제 추가"
      ]
    },
    {
      "cell_type": "markdown",
      "metadata": {
        "id": "J1QBs2jiVuoQ"
      },
      "source": [
        "위의 알고리즘에 l2규제(릿지 규제)를 추가할 것이다."
      ]
    },
    {
      "cell_type": "markdown",
      "metadata": {
        "id": "EGqvJrzgsJbj"
      },
      "source": [
        "* `learning_rate` : 학습률\n",
        "* `epsilon` : $\\log$ 값이 항상 계산되도록 더해지는 작은 실수\n",
        "* `n_iterations` : 에포크 수\n",
        "* `m` : 훈련 세트 크기, 즉 훈련 샘플 수\n",
        "* `logits` : 모든 샘플에 대한 클래스별 점수, 즉 $\\mathbf{X}_{\\textit{train}}\\, \\Theta$\n",
        "* `Y_proba` : 모든 샘플에 대해 계산된 클래스 별 소속 확률, 즉 $\\hat P$\n",
        "* `alpha` : 규제 하이퍼파라미터"
      ]
    },
    {
      "cell_type": "code",
      "metadata": {
        "id": "h9TA7ucAX062",
        "colab": {
          "base_uri": "https://localhost:8080/"
        },
        "outputId": "f884b801-524e-4c26-bd49-568809986878"
      },
      "source": [
        "learning_rate = 0.1    # 학습률\n",
        "epsilon = 1e-7         # log 값이 항상 계산되도록 더해지는 작은 실수\n",
        "n_iterations = 5001    # 에포크 수\n",
        "m = len(X_train)       # 훈련 세트 크기\n",
        "alpha = 0.1            # 규제 하이퍼파라미터\n",
        "\n",
        "Theta = np.random.randn(n_inputs)  # 세타값을 초기화한다.\n",
        "\n",
        "for iteration in range(n_iterations):     # 5001번 반복 훈련\n",
        "    logits = X_train.dot(Theta)\n",
        "    Y_proba = sigmoid(logits)\n",
        "   \n",
        "    if iteration % 500 == 0:              # 500 에포크마다 손실(비용) 계산해서 출력\n",
        "      xentropy_loss = -np.mean(np.sum((y_train*np.log(Y_proba + epsilon) + (1-y_train)*np.log(1 - Y_proba + epsilon)))) # 손실 함수\n",
        "      l2_loss = 1/2 * np.sum(np.square(Theta[1:]))  # 편향은 규제에서 제외\n",
        "      loss = xentropy_loss + alpha * l2_loss        # l2 규제가 추가된 손실\n",
        "      print(iteration, loss)\n",
        "    \n",
        "    error = Y_proba - y_train             # 그레이디언트 계산.\n",
        "    l2_loss_gradients = np.r_[np.zeros([1]), alpha * Theta[1:]]   # l2 규제 그레이디언트\n",
        "    gradients = 1/m * X_train.T.dot(error) + l2_loss_gradients\n",
        "    \n",
        "    Theta = Theta - learning_rate * gradients       # 파라미터 업데이트"
      ],
      "execution_count": 252,
      "outputs": [
        {
          "output_type": "stream",
          "text": [
            "0 60.10374540345941\n",
            "500 57.90423273764737\n",
            "1000 57.89657837548702\n",
            "1500 57.89653596088129\n",
            "2000 57.89653572581438\n",
            "2500 57.89653572451161\n",
            "3000 57.89653572450439\n",
            "3500 57.89653572450438\n",
            "4000 57.89653572450438\n",
            "4500 57.89653572450438\n",
            "5000 57.89653572450438\n"
          ],
          "name": "stdout"
        }
      ]
    },
    {
      "cell_type": "markdown",
      "metadata": {
        "id": "cmMXu-QKXDxn"
      },
      "source": [
        "검증세트로 정확도를 측정한다."
      ]
    },
    {
      "cell_type": "code",
      "metadata": {
        "colab": {
          "base_uri": "https://localhost:8080/"
        },
        "id": "u09abIvDW9Xq",
        "outputId": "ca669cc9-40aa-4ef3-ef46-9acc20a86851"
      },
      "source": [
        "logits = X_valid.dot(Theta)              \n",
        "Y_proba = sigmoid(logits)\n",
        "y_predict = np.array([])\n",
        "for i in range(len(Y_proba)):\n",
        "  if Y_proba[i] >= 0.5:\n",
        "    y_predict = np.append(y_predict, 1)\n",
        "  else:\n",
        "    y_predict = np.append(y_predict, 0)\n",
        "\n",
        "accuracy_score = np.mean(y_predict == y_valid)  # 정확도 계산\n",
        "accuracy_score"
      ],
      "execution_count": 253,
      "outputs": [
        {
          "output_type": "execute_result",
          "data": {
            "text/plain": [
              "0.8666666666666667"
            ]
          },
          "metadata": {
            "tags": []
          },
          "execution_count": 253
        }
      ]
    },
    {
      "cell_type": "markdown",
      "metadata": {
        "id": "BXZjDf6sXICo"
      },
      "source": [
        "검증세트로 테스트 했을 때는 정확도가 규제 적용 전과 같게 나왔다."
      ]
    },
    {
      "cell_type": "markdown",
      "metadata": {
        "id": "ehxl_AzPaDhY"
      },
      "source": [
        "### 조기종료 기능 추가\n",
        "\n",
        "조기종료란 검증세트에 대한 손실값이 이전 단계보다 커지면\n",
        "바로 종료되는 것을 말한다.\n",
        "\n",
        "조기종료 기능을 추가 후, 조기종료가 잘 되는지 테스트 해본다."
      ]
    },
    {
      "cell_type": "code",
      "metadata": {
        "colab": {
          "base_uri": "https://localhost:8080/"
        },
        "id": "SHGuNuZ9Y6uW",
        "outputId": "6306fefa-daa0-4ddf-9aa4-0f3cbebf2451"
      },
      "source": [
        "learning_rate = 0.1    # 학습률\n",
        "epsilon = 1e-7         # log 값이 항상 계산되도록 더해지는 작은 실수\n",
        "n_iterations = 5001    # 에포크 수\n",
        "m = len(X_train)       # 훈련 세트 크기\n",
        "alpha = 0.1            # 규제 하이퍼파라미터\n",
        "best_loss = np.infty   # 최소 손실값 기억 변수\n",
        "\n",
        "Theta = np.random.randn(n_inputs)  # 세타값을 초기화한다.\n",
        "\n",
        "for iteration in range(n_iterations):\n",
        "\n",
        "    # 훈련 및 손실 계산\n",
        "    logits = X_train.dot(Theta)\n",
        "    Y_proba = sigmoid(logits)\n",
        "    error = Y_proba - y_train\n",
        "    gradients = 1/m * X_train.T.dot(error) + np.r_[np.zeros([1]), alpha * Theta[1:]]\n",
        "    Theta = Theta - learning_rate * gradients\n",
        "    \n",
        "    # 검증 세트에 대한 손실 계산\n",
        "    logits = X_valid.dot(Theta)\n",
        "    Y_proba = sigmoid(logits)\n",
        "    xentropy_loss = -np.mean(np.sum((y_valid*np.log(Y_proba + epsilon) + (1-y_valid)*np.log(1 - Y_proba + epsilon))))\n",
        "    l2_loss = 1/2 * np.sum(np.square(Theta[1:]))\n",
        "    loss = xentropy_loss + alpha * l2_loss\n",
        "   \n",
        "    if iteration % 1000 == 0:              # 1000 에포크마다 손실(비용) 계산해서 출력\n",
        "      print(iteration, loss)\n",
        "\n",
        "    # 에포크마다 최소 손실값 업데이트\n",
        "    if loss < best_loss:\n",
        "        best_loss = loss\n",
        "    else:                                      # 에포크가 줄어들지 않으면 바로 훈련 종료\n",
        "        print(iteration - 1, best_loss)        # 종료되기 이전 에포크의 손실값 출력\n",
        "        print(iteration, loss, \"조기 종료\")\n",
        "        break"
      ],
      "execution_count": 254,
      "outputs": [
        {
          "output_type": "stream",
          "text": [
            "0 43.720160123235566\n",
            "1000 18.998986521221155\n",
            "2000 18.998903714755507\n",
            "2779 18.998903712212798\n",
            "2780 18.998903712212798 조기 종료!\n"
          ],
          "name": "stdout"
        }
      ]
    },
    {
      "cell_type": "markdown",
      "metadata": {
        "id": "xMvuZURvcBcO"
      },
      "source": [
        "조기종료 기능이 잘 구현된 것을 확인할 수 있다."
      ]
    },
    {
      "cell_type": "markdown",
      "metadata": {
        "id": "fXoJMYlIkiZL"
      },
      "source": [
        "## 정확도 측정 (최종)"
      ]
    },
    {
      "cell_type": "markdown",
      "metadata": {
        "id": "GXPa5tX-b4eT"
      },
      "source": [
        "이제 최종적으로 테스트 세트를 사용하여 모델의 정확도를 측정한다."
      ]
    },
    {
      "cell_type": "code",
      "metadata": {
        "colab": {
          "base_uri": "https://localhost:8080/"
        },
        "id": "f6HfUiBIcFzN",
        "outputId": "82ae0b79-eee9-401c-c7cb-fac18f05f3b0"
      },
      "source": [
        "logits = X_test.dot(Theta)\n",
        "Y_proba = sigmoid(logits)\n",
        "y_predict = np.array([])\n",
        "for i in range(len(Y_proba)):\n",
        "  if Y_proba[i] >= 0.5:\n",
        "    y_predict = np.append(y_predict, 1)\n",
        "  else:\n",
        "    y_predict = np.append(y_predict, 0)\n",
        "\n",
        "accuracy_score = np.mean(y_predict == y_test)\n",
        "accuracy_score"
      ],
      "execution_count": 255,
      "outputs": [
        {
          "output_type": "execute_result",
          "data": {
            "text/plain": [
              "0.8666666666666667"
            ]
          },
          "metadata": {
            "tags": []
          },
          "execution_count": 255
        }
      ]
    },
    {
      "cell_type": "markdown",
      "metadata": {
        "id": "2Og7G2EtcWp1"
      },
      "source": [
        "최종적으로 약 86.6%로 나왔다. 성능은 그닥 좋지 않지만 사이킷런을 사용하지 않고 구현에 성공했다."
      ]
    },
    {
      "cell_type": "markdown",
      "metadata": {
        "id": "RootY2pytkPA"
      },
      "source": [
        "# 과제 2\n",
        "과제 1에서 구현된 로지스틱 회귀 알고리즘에 일대다(OvR) 방식을 적용하여 붓꽃에 대한 다중 클래스 분류 알고리즘을 구현하라. 단, 사이킷런을 전혀 사용하지 않아야 한다.\n"
      ]
    },
    {
      "cell_type": "markdown",
      "metadata": {
        "id": "ySsX9_fYxwl2"
      },
      "source": [
        "## 데이터 준비"
      ]
    },
    {
      "cell_type": "markdown",
      "metadata": {
        "id": "gIKXg0SQvqAt"
      },
      "source": [
        "2개의 모델을 사용한다.\n",
        "꽃잎 길이와 꽃잎 넓이 특성을 이용하여 세토사, 버지니카 품종 여부를 판정하는 데에 사용되는 데이터셋을 지정한다.\n",
        "* 세토사 품종 여부를 판정하는 데이터셋 지정\n",
        "* 버지니카 품종 여부를 판정하는 데이터셋 지정"
      ]
    },
    {
      "cell_type": "code",
      "metadata": {
        "id": "RdvvYw_yu1Is"
      },
      "source": [
        "X = iris[\"data\"][:, (2, 3)]  # 꽃잎 길이, 꽃잎 넓이\n",
        "y = iris[\"target\"]\n",
        "y0 = (iris[\"target\"] == 0).astype(np.int) # 세토사 \n",
        "y1 = (iris[\"target\"] == 2).astype(np.int) # 버지니카"
      ],
      "execution_count": 264,
      "outputs": []
    },
    {
      "cell_type": "markdown",
      "metadata": {
        "id": "OhYsd9APxh9n"
      },
      "source": [
        "편향을 추가한다."
      ]
    },
    {
      "cell_type": "code",
      "metadata": {
        "id": "fj907HPlxiW_"
      },
      "source": [
        "X_with_bias = np.c_[np.ones([len(X), 1]), X]"
      ],
      "execution_count": 265,
      "outputs": []
    },
    {
      "cell_type": "markdown",
      "metadata": {
        "id": "BnFPTdCrdWlN"
      },
      "source": [
        "일정한 결과를 유지하기 위해 랜덤 시드를 지정한다."
      ]
    },
    {
      "cell_type": "code",
      "metadata": {
        "id": "k5uupLr1dX_8"
      },
      "source": [
        "np.random.seed(2042)"
      ],
      "execution_count": 266,
      "outputs": []
    },
    {
      "cell_type": "markdown",
      "metadata": {
        "id": "cZJ1IlZednIr"
      },
      "source": [
        "## 데이터셋 분할"
      ]
    },
    {
      "cell_type": "markdown",
      "metadata": {
        "id": "XFKFstqXdnIt"
      },
      "source": [
        "데이터셋을 훈련, 검증, 테스트 용도로 6대 2대 2의 비율로 무작위로 분할한다."
      ]
    },
    {
      "cell_type": "code",
      "metadata": {
        "id": "0zRErNQddnIu"
      },
      "source": [
        "test_ratio = 0.2                                         # 테스트 세트 비율 = 20%\n",
        "validation_ratio = 0.2                                   # 검증 세트 비율 = 20%\n",
        "total_size = len(X_with_bias)                            # 전체 데이터셋 크기\n",
        "\n",
        "test_size = int(total_size * test_ratio)                 # 테스트 세트 크기: 전체의 20%\n",
        "validation_size = int(total_size * validation_ratio)     # 검증 세트 크기: 전체의 20%\n",
        "train_size = total_size - test_size - validation_size    # 훈련 세트 크기: 전체의 60%"
      ],
      "execution_count": 267,
      "outputs": []
    },
    {
      "cell_type": "markdown",
      "metadata": {
        "id": "gHXIZYJndnIu"
      },
      "source": [
        "`np.random.permutation()` 함수를 이용하여 인덱스를 무작위로 섞는다."
      ]
    },
    {
      "cell_type": "code",
      "metadata": {
        "id": "bdbE-x80dnIv"
      },
      "source": [
        "rnd_indices = np.random.permutation(total_size)"
      ],
      "execution_count": 268,
      "outputs": []
    },
    {
      "cell_type": "markdown",
      "metadata": {
        "id": "O-9Rm75PdnIv"
      },
      "source": [
        "인덱스가 무작위로 섞였기 때문에 무작위로 분할하는 효과를 얻는다. \n",
        "\n",
        "* 섞인 인덱스를 이용하여 지정된 6:2:2의 비율로 훈련, 검증, 테스트 세트로 분할하는 방법 사용"
      ]
    },
    {
      "cell_type": "markdown",
      "metadata": {
        "id": "vf8Vu3UKfGGh"
      },
      "source": [
        "2개의 모델을 이용할 것이기 때문에 세토사(setosa)에 대한 데이터셋, 버지니카(virginica)에 대한 데이터셋을 따로 개별적으로 준비한다."
      ]
    },
    {
      "cell_type": "code",
      "metadata": {
        "id": "dwjGXOS_dnIw"
      },
      "source": [
        "X_train = X_with_bias[rnd_indices[:train_size]] \n",
        "y_train = y[rnd_indices[:train_size]]\n",
        "y_set_train = y0[rnd_indices[:train_size]] # setosa\n",
        "y_vir_train = y1[rnd_indices[:train_size]] # virginica\n",
        "\n",
        "X_valid = X_with_bias[rnd_indices[train_size:-test_size]]\n",
        "y_valid = y[rnd_indices[train_size:-test_size]]\n",
        "y_set_valid = y0[rnd_indices[train_size:-test_size]] # setosa\n",
        "y_vir_valid = y1[rnd_indices[train_size:-test_size]] # virginica\n",
        "\n",
        "X_test = X_with_bias[rnd_indices[-test_size:]]\n",
        "y_test = y[rnd_indices[-test_size:]]"
      ],
      "execution_count": 269,
      "outputs": []
    },
    {
      "cell_type": "code",
      "metadata": {
        "id": "Ex6-ZBj2fnAw"
      },
      "source": [
        "n_inputs = X_train.shape[1]\n",
        "Theta0 = np.random.randn(n_inputs) # setosa 인지 여부를 판단하기 위한 모델의 세타값\n",
        "Theta1 = np.random.randn(n_inputs) # virginica 인지 여부를 판단하기 위한 모델의 세타값"
      ],
      "execution_count": 270,
      "outputs": []
    },
    {
      "cell_type": "markdown",
      "metadata": {
        "id": "J4Bf9UWhgA0m"
      },
      "source": [
        "## 로지스틱 회귀 구현"
      ]
    },
    {
      "cell_type": "markdown",
      "metadata": {
        "id": "kF_PXnm9gEpm"
      },
      "source": [
        "* 세토사(setosa)인지 여부를 판단하기 위한 모델"
      ]
    },
    {
      "cell_type": "code",
      "metadata": {
        "colab": {
          "base_uri": "https://localhost:8080/"
        },
        "id": "BzwTlnwTgS_L",
        "outputId": "fdf7382a-27fe-40bf-c659-48f05b0e924a"
      },
      "source": [
        "learning_rate = 0.1        # 학습률\n",
        "epsilon = 1e-7             # log 값이 항상 계산되도록 더해지는 작은 실수\n",
        "n_iterations = 5001        # 에포크 수\n",
        "m = len(X_train)           # 훈련 세트 크기\n",
        "alpha = 0.1                # 규제 하이퍼파라미터\n",
        "set_best_loss = np.infty   # 최소 손실값 기억 변수\n",
        "\n",
        "set_Theta = np.random.randn(n_inputs)  # 파라미터 새로 초기화\n",
        "\n",
        "for iteration in range(n_iterations):\n",
        "    # 훈련 및 손실 계산\n",
        "    set_logits = X_train.dot(set_Theta)\n",
        "    Y_set_proba = sigmoid(set_logits)\n",
        "    error = Y_set_proba - y_set_train\n",
        "    set_gradients = 1/m * X_train.T.dot(error) + np.r_[np.zeros([1]), alpha * set_Theta[1:]]\n",
        "    set_Theta = set_Theta - learning_rate * set_gradients\n",
        "\n",
        "    # 검증 세트에 대한 손실 계산\n",
        "    set_logits = X_valid.dot(set_Theta)\n",
        "    Y_set_proba = sigmoid(set_logits)\n",
        "    set_xentropy_loss = -np.mean(np.sum((y_set_valid*np.log(Y_set_proba + epsilon) + (1-y_set_valid)*np.log(1 - Y_set_proba + epsilon))))\n",
        "    set_l2_loss = 1/2 * np.sum(np.square(set_Theta[1:]))\n",
        "    set_loss = set_xentropy_loss + alpha * set_l2_loss\n",
        "    \n",
        "    # 500 에포크마다 검증 세트에 대한 손실 출력\n",
        "    if iteration % 500 == 0:\n",
        "        print(iteration, set_loss)\n",
        "        \n",
        "    # 에포크마다 최소 손실값 업데이트\n",
        "    if set_loss < set_best_loss:\n",
        "        set_best_loss = set_loss\n",
        "    else:                                          # 에포크가 줄어들지 않으면 바로 훈련 종료\n",
        "        print(iteration - 1, set_best_loss)        # 종료되기 이전 에포크의 손실값 출력\n",
        "        print(iteration, set_loss, \"조기 종료\")\n",
        "        break"
      ],
      "execution_count": 273,
      "outputs": [
        {
          "output_type": "stream",
          "text": [
            "0 26.905616258645264\n",
            "500 4.003743762121255\n",
            "1000 3.737107717302366\n",
            "1500 3.6671964254307907\n",
            "2000 3.645061183844694\n",
            "2500 3.6375672193741426\n",
            "3000 3.6349690891215927\n",
            "3500 3.6340607447815563\n",
            "4000 3.6337422366188807\n",
            "4500 3.6336304369363406\n",
            "5000 3.6335911797987333\n"
          ],
          "name": "stdout"
        }
      ]
    },
    {
      "cell_type": "markdown",
      "metadata": {
        "id": "opCsr7BUiSGE"
      },
      "source": [
        "* 버지니카(virginica)인지 여부를 판단하기 위한 모델"
      ]
    },
    {
      "cell_type": "code",
      "metadata": {
        "colab": {
          "base_uri": "https://localhost:8080/"
        },
        "id": "3qDOXK58igQx",
        "outputId": "0d6e3708-3da1-4f93-c7d5-3a3721872d4b"
      },
      "source": [
        "learning_rate = 0.1        # 학습률\n",
        "epsilon = 1e-7             # log 값이 항상 계산되도록 더해지는 작은 실수\n",
        "n_iterations = 5001        # 에포크 수\n",
        "m = len(X_train)           # 훈련 세트 크기\n",
        "alpha = 0.1                # 규제 하이퍼파라미터\n",
        "vir_best_loss = np.infty   # 최소 손실값 기억 변수\n",
        "\n",
        "vir_Theta = np.random.randn(n_inputs)  # 파라미터 새로 초기화\n",
        "\n",
        "for iteration in range(n_iterations):\n",
        "    # 훈련 및 손실 계산\n",
        "    vir_logits = X_train.dot(vir_Theta)\n",
        "    Y_vir_proba = sigmoid(vir_logits)\n",
        "    error = Y_vir_proba - y_vir_train\n",
        "    vir_gradients = 1/m * X_train.T.dot(error) + np.r_[np.zeros([1]), alpha * vir_Theta[1:]]\n",
        "    vir_Theta = vir_Theta - learning_rate * vir_gradients\n",
        "\n",
        "    # 검증 세트에 대한 손실 계산\n",
        "    vir_logits = X_valid.dot(vir_Theta)\n",
        "    Y_vir_proba = sigmoid(vir_logits)\n",
        "    vir_xentropy_loss = -np.mean(np.sum((y_vir_valid*np.log(Y_vir_proba + epsilon) + (1-y_vir_valid)*np.log(1 - Y_vir_proba + epsilon))))\n",
        "    vir_l2_loss = 1/2 * np.sum(np.square(vir_Theta[1:]))\n",
        "    vir_loss = vir_xentropy_loss + alpha * vir_l2_loss\n",
        "    \n",
        "    # 500 에포크마다 검증 세트에 대한 손실 출력\n",
        "    if iteration % 500 == 0:\n",
        "        print(iteration, vir_loss)\n",
        "        \n",
        "    # 에포크마다 최소 손실값 업데이트\n",
        "    if vir_loss < vir_best_loss:\n",
        "        vir_best_loss = vir_loss\n",
        "    else:                                          # 에포크가 줄어들지 않으면 바로 훈련 종료\n",
        "        print(iteration - 1, vir_best_loss)        # 종료되기 이전 에포크의 손실값 출력\n",
        "        print(iteration, vir_loss, \"조기 종료\")\n",
        "        break"
      ],
      "execution_count": 274,
      "outputs": [
        {
          "output_type": "stream",
          "text": [
            "0 95.01306225869985\n",
            "500 10.782754134134866\n",
            "1000 9.497810192747188\n",
            "1500 8.982839338165343\n",
            "2000 8.715105856499614\n",
            "2500 8.559273376170394\n",
            "3000 8.463025735440624\n",
            "3500 8.401489203954531\n",
            "4000 8.361297373101415\n",
            "4500 8.33468652860064\n",
            "5000 8.316910243929565\n"
          ],
          "name": "stdout"
        }
      ]
    },
    {
      "cell_type": "markdown",
      "metadata": {
        "id": "BcboW-0-lBM2"
      },
      "source": [
        "### 정확도 측정"
      ]
    },
    {
      "cell_type": "markdown",
      "metadata": {
        "id": "O7FMvPpOkF1b"
      },
      "source": [
        "검증세트를 사용하여 정확도를 측정한다."
      ]
    },
    {
      "cell_type": "code",
      "metadata": {
        "colab": {
          "base_uri": "https://localhost:8080/"
        },
        "id": "9Q06DjakjKws",
        "outputId": "4f8faa7e-515e-4562-b86c-3b9ce425e52f"
      },
      "source": [
        "set_logits = X_valid.dot(set_Theta)              \n",
        "Y_set_proba = sigmoid(set_logits)\n",
        "y_set_predict = np.array([])\n",
        "for i in range(len(Y_set_proba)):\n",
        "  if Y_set_proba[i] >= 0.5:\n",
        "    y_set_predict = np.append(y_set_predict, 1)\n",
        "  else:\n",
        "    y_set_predict = np.append(y_set_predict, 0)\n",
        "\n",
        "accuracy_score = np.mean(y_set_predict == y_set_valid)  # 정확도 계산\n",
        "accuracy_score"
      ],
      "execution_count": 276,
      "outputs": [
        {
          "output_type": "execute_result",
          "data": {
            "text/plain": [
              "1.0"
            ]
          },
          "metadata": {
            "tags": []
          },
          "execution_count": 276
        }
      ]
    },
    {
      "cell_type": "code",
      "metadata": {
        "colab": {
          "base_uri": "https://localhost:8080/"
        },
        "id": "ENvbhOjojsbp",
        "outputId": "0b65f1d2-4d6f-4788-a346-b4dc95ce21ff"
      },
      "source": [
        "vir_logits = X_valid.dot(vir_Theta)              \n",
        "Y_vir_proba = sigmoid(vir_logits)\n",
        "y_vir_predict = np.array([])\n",
        "for i in range(len(Y_vir_proba)):\n",
        "  if Y_vir_proba[i] >= 0.5:\n",
        "    y_vir_predict = np.append(y_vir_predict, 1)\n",
        "  else:\n",
        "    y_vir_predict = np.append(y_vir_predict, 0)\n",
        "\n",
        "accuracy_score = np.mean(y_vir_predict == y_vir_valid)  # 정확도 계산\n",
        "accuracy_score"
      ],
      "execution_count": 277,
      "outputs": [
        {
          "output_type": "execute_result",
          "data": {
            "text/plain": [
              "0.9333333333333333"
            ]
          },
          "metadata": {
            "tags": []
          },
          "execution_count": 277
        }
      ]
    },
    {
      "cell_type": "markdown",
      "metadata": {
        "id": "7UBz-k9CkLfA"
      },
      "source": [
        "세토사(setosa)인지 판단하는 모델은 정확도가 100%, 버지니카(virginica)인지 판단하는 모델은 정확도가 93%가 나왔다."
      ]
    },
    {
      "cell_type": "markdown",
      "metadata": {
        "id": "pQVw_dZIk3aW"
      },
      "source": [
        "## 정확도 측정 (최종)"
      ]
    },
    {
      "cell_type": "markdown",
      "metadata": {
        "id": "0fTGKSxdkcdo"
      },
      "source": [
        "이제 최종적으로 테스트 세트를 사용하여 모델의 정확도를 측정한다.\n",
        "\n",
        "종이 버시컬러(versicolor)일 확률은 1에서 세토사(setosa)일 확률과 버지니카(virginica)일 확률을 뺀 값과 같음을 이용한다.\n",
        "\n",
        "$$\n",
        "1 - (Setosa Prob. + Virginica Prob.)\n",
        "$$\n"
      ]
    },
    {
      "cell_type": "code",
      "metadata": {
        "id": "zdfgMde9nIGV"
      },
      "source": [
        "set_logits = X_test.dot(set_Theta)              \n",
        "Y_set_proba = sigmoid(set_logits)\n",
        "\n",
        "vir_logits = X_test.dot(vir_Theta)              \n",
        "Y_vir_proba = sigmoid(vir_logits)\n",
        "\n",
        "y_predict = np.array([])\n",
        "for i in range(len(Y_set_proba)):\n",
        "  prob_list = [[Y_set_proba[i], 0], [1-Y_set_proba[i]-Y_vir_proba[i], 1], [Y_vir_proba[i], 2]]\n",
        "  prob_list.sort(reverse=True)                      # 가장 높은 확률이 가장 앞으로 오게끔 정렬\n",
        "  y_predict = np.append(y_predict, prob_list[0][1]) # 가장 확률이 높았던 것을 예측값으로 결정"
      ],
      "execution_count": 278,
      "outputs": []
    },
    {
      "cell_type": "code",
      "metadata": {
        "colab": {
          "base_uri": "https://localhost:8080/"
        },
        "id": "HH3mgs1LoM-s",
        "outputId": "e3eb8c89-9dee-4d60-f89a-a3e54ef5dea6"
      },
      "source": [
        "accuracy_score = np.mean(y_predict == y_test)\n",
        "accuracy_score"
      ],
      "execution_count": 279,
      "outputs": [
        {
          "output_type": "execute_result",
          "data": {
            "text/plain": [
              "0.9333333333333333"
            ]
          },
          "metadata": {
            "tags": []
          },
          "execution_count": 279
        }
      ]
    },
    {
      "cell_type": "markdown",
      "metadata": {
        "id": "6nods8JloTEG"
      },
      "source": [
        "정확도가 93%로 나왔다."
      ]
    },
    {
      "cell_type": "markdown",
      "metadata": {
        "id": "2XSPZ4p7yCFW"
      },
      "source": [
        "# 과제 3"
      ]
    },
    {
      "cell_type": "markdown",
      "metadata": {
        "id": "V2BPvAKFHvqJ"
      },
      "source": [
        "## A\n",
        "\n",
        "* 사진을 낮과 밤으로 분류하는 로지스틱 회귀 모델을 구현하라.\n"
      ]
    },
    {
      "cell_type": "markdown",
      "metadata": {
        "id": "3kb5iEzOYg16"
      },
      "source": [
        "### 사진 다운로드\n",
        "\n",
        "미리 모아둔 사진 100개를 깃허브에서 다운받아서 사용할 것이다.\n",
        "\n",
        "파일을 다운로드하기 전에 앞서 언급한 디렉토리의 경로를 지정한다."
      ]
    },
    {
      "cell_type": "code",
      "metadata": {
        "id": "AQWRzUw3Yfr6"
      },
      "source": [
        "datapath_1 = os.path.join(\"images\", \"sky\", \"day\", \"\")\n",
        "datapath_2 = os.path.join(\"images\", \"sky\", \"night\", \"\")"
      ],
      "execution_count": 258,
      "outputs": []
    },
    {
      "cell_type": "markdown",
      "metadata": {
        "id": "17X7cuKZsr2I"
      },
      "source": [
        "저의 깃허브에 파일을 저장해 두었고 깃허브에서 파일을 불러와서 다운로드하도록 하였다. 파일은 총 100개이고 `day` 레포지토리에는 낮 사진 `night` 레포지토리에는 밤 사진이 있다."
      ]
    },
    {
      "cell_type": "code",
      "metadata": {
        "colab": {
          "base_uri": "https://localhost:8080/"
        },
        "id": "EaRJCIdxn6JO",
        "outputId": "52a6b7fc-e41c-48f0-cc3b-04365ddb0a19"
      },
      "source": [
        "import urllib.request\n",
        "DOWNLOAD_ROOT = \"https://github.com/Vest1ge/Images/\"\n",
        "os.makedirs(datapath_1, exist_ok=True)\n",
        "os.makedirs(datapath_2, exist_ok=True)\n",
        "for i in range(1, 46):\n",
        "    print(\"낮 사진 다운로드:\", str(i))\n",
        "    url_1 = DOWNLOAD_ROOT + 'blob/main/sky/day/' + str(i) + '.png'\n",
        "    urllib.request.urlretrieve(url_1, datapath_1 + str(i) + '.png')\n",
        "    i += 1\n",
        "for i in range(1, 56):\n",
        "    print(\"밤 사진 다운로드:\", str(i))\n",
        "    url_2 = DOWNLOAD_ROOT + 'blob/main/sky/night/' + str(i) + '.png'\n",
        "    urllib.request.urlretrieve(url_2, datapath_2 + str(i) + '.png')\n",
        "    i += 1"
      ],
      "execution_count": 259,
      "outputs": [
        {
          "output_type": "stream",
          "text": [
            "낮 사진 다운로드: 1\n",
            "낮 사진 다운로드: 2\n",
            "낮 사진 다운로드: 3\n",
            "낮 사진 다운로드: 4\n",
            "낮 사진 다운로드: 5\n",
            "낮 사진 다운로드: 6\n",
            "낮 사진 다운로드: 7\n",
            "낮 사진 다운로드: 8\n",
            "낮 사진 다운로드: 9\n",
            "낮 사진 다운로드: 10\n",
            "낮 사진 다운로드: 11\n",
            "낮 사진 다운로드: 12\n",
            "낮 사진 다운로드: 13\n",
            "낮 사진 다운로드: 14\n",
            "낮 사진 다운로드: 15\n",
            "낮 사진 다운로드: 16\n",
            "낮 사진 다운로드: 17\n",
            "낮 사진 다운로드: 18\n",
            "낮 사진 다운로드: 19\n",
            "낮 사진 다운로드: 20\n",
            "낮 사진 다운로드: 21\n",
            "낮 사진 다운로드: 22\n",
            "낮 사진 다운로드: 23\n",
            "낮 사진 다운로드: 24\n",
            "낮 사진 다운로드: 25\n",
            "낮 사진 다운로드: 26\n",
            "낮 사진 다운로드: 27\n",
            "낮 사진 다운로드: 28\n",
            "낮 사진 다운로드: 29\n",
            "낮 사진 다운로드: 30\n",
            "낮 사진 다운로드: 31\n",
            "낮 사진 다운로드: 32\n",
            "낮 사진 다운로드: 33\n",
            "낮 사진 다운로드: 34\n",
            "낮 사진 다운로드: 35\n",
            "낮 사진 다운로드: 36\n",
            "낮 사진 다운로드: 37\n",
            "낮 사진 다운로드: 38\n",
            "낮 사진 다운로드: 39\n",
            "낮 사진 다운로드: 40\n",
            "낮 사진 다운로드: 41\n",
            "낮 사진 다운로드: 42\n",
            "낮 사진 다운로드: 43\n",
            "낮 사진 다운로드: 44\n",
            "낮 사진 다운로드: 45\n",
            "밤 사진 다운로드: 1\n",
            "밤 사진 다운로드: 2\n",
            "밤 사진 다운로드: 3\n",
            "밤 사진 다운로드: 4\n",
            "밤 사진 다운로드: 5\n",
            "밤 사진 다운로드: 6\n",
            "밤 사진 다운로드: 7\n",
            "밤 사진 다운로드: 8\n",
            "밤 사진 다운로드: 9\n",
            "밤 사진 다운로드: 10\n",
            "밤 사진 다운로드: 11\n",
            "밤 사진 다운로드: 12\n",
            "밤 사진 다운로드: 13\n",
            "밤 사진 다운로드: 14\n",
            "밤 사진 다운로드: 15\n",
            "밤 사진 다운로드: 16\n",
            "밤 사진 다운로드: 17\n",
            "밤 사진 다운로드: 18\n",
            "밤 사진 다운로드: 19\n",
            "밤 사진 다운로드: 20\n",
            "밤 사진 다운로드: 21\n",
            "밤 사진 다운로드: 22\n",
            "밤 사진 다운로드: 23\n",
            "밤 사진 다운로드: 24\n",
            "밤 사진 다운로드: 25\n",
            "밤 사진 다운로드: 26\n",
            "밤 사진 다운로드: 27\n",
            "밤 사진 다운로드: 28\n",
            "밤 사진 다운로드: 29\n",
            "밤 사진 다운로드: 30\n",
            "밤 사진 다운로드: 31\n",
            "밤 사진 다운로드: 32\n",
            "밤 사진 다운로드: 33\n",
            "밤 사진 다운로드: 34\n",
            "밤 사진 다운로드: 35\n",
            "밤 사진 다운로드: 36\n",
            "밤 사진 다운로드: 37\n",
            "밤 사진 다운로드: 38\n",
            "밤 사진 다운로드: 39\n",
            "밤 사진 다운로드: 40\n",
            "밤 사진 다운로드: 41\n",
            "밤 사진 다운로드: 42\n",
            "밤 사진 다운로드: 43\n",
            "밤 사진 다운로드: 44\n",
            "밤 사진 다운로드: 45\n",
            "밤 사진 다운로드: 46\n",
            "밤 사진 다운로드: 47\n",
            "밤 사진 다운로드: 48\n",
            "밤 사진 다운로드: 49\n",
            "밤 사진 다운로드: 50\n",
            "밤 사진 다운로드: 51\n",
            "밤 사진 다운로드: 52\n",
            "밤 사진 다운로드: 53\n",
            "밤 사진 다운로드: 54\n",
            "밤 사진 다운로드: 55\n"
          ],
          "name": "stdout"
        }
      ]
    },
    {
      "cell_type": "markdown",
      "metadata": {
        "id": "bjYYxl1HvQbB"
      },
      "source": [
        "파일이 다운로드 되었다. 이제 이미지 파일들을 데이터셋으로 만들어야 한다."
      ]
    },
    {
      "cell_type": "markdown",
      "metadata": {
        "id": "b4SlW1tmK3NE"
      },
      "source": [
        "### 데이터셋 만들기"
      ]
    },
    {
      "cell_type": "markdown",
      "metadata": {
        "id": "yDYBKoxuH73q"
      },
      "source": [
        "## B \n",
        "\n",
        "* 사진을 낮과 밤, 실내와 실외로 분류하는 다중 레이블 분류 모델을 두 개의 로지스틱 회귀 모델을 이용하여 구현하라"
      ]
    },
    {
      "cell_type": "markdown",
      "metadata": {
        "id": "VeUzNgFAH243"
      },
      "source": [
        "## C\n",
        "* 과제 1에서 구현한 자신의 알고리즘과 사이킷런에서 제공하는 LogisticRegression 모델의 성능을 비교하라."
      ]
    },
    {
      "cell_type": "markdown",
      "metadata": {
        "id": "NQd92twBurqQ"
      },
      "source": [
        "#### 과제 3에서 미구현된 부분은 추후에 보완 후 수정하겠음."
      ]
    }
  ]
}